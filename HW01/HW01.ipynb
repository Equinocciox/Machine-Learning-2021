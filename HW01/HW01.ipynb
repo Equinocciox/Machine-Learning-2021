{
  "nbformat": 4,
  "nbformat_minor": 0,
  "metadata": {
    "colab": {
      "name": "ML2021Spring - HW1.ipynb",
      "provenance": [],
      "include_colab_link": true
    },
    "kernelspec": {
      "name": "python3",
      "display_name": "Python 3"
    },
    "accelerator": "GPU"
  },
  "cells": [
    {
      "cell_type": "markdown",
      "metadata": {
        "id": "view-in-github",
        "colab_type": "text"
      },
      "source": [
        "<a href=\"https://colab.research.google.com/github/Equinocciox/Machine-Learning-2021/blob/main/HW01/HW01.ipynb\" target=\"_parent\"><img src=\"https://colab.research.google.com/assets/colab-badge.svg\" alt=\"Open In Colab\"/></a>"
      ]
    },
    {
      "cell_type": "markdown",
      "metadata": {
        "id": "mz0_QVkxCrX3"
      },
      "source": [
        "# **Homework 1: COVID-19 Cases Prediction (Regression)**"
      ]
    },
    {
      "cell_type": "markdown",
      "source": [],
      "metadata": {
        "id": "hUfh1bGO3x2-"
      }
    },
    {
      "cell_type": "markdown",
      "metadata": {
        "id": "ZeZnPAiwDRWG"
      },
      "source": [
        "Author: Heng-Jui Chang\n",
        "\n",
        "Slides: https://github.com/ga642381/ML2021-Spring/blob/main/HW01/HW01.pdf  \n",
        "Videos (Mandarin): https://cool.ntu.edu.tw/courses/4793/modules/items/172854  \n",
        "https://cool.ntu.edu.tw/courses/4793/modules/items/172853  \n",
        "Video (English): https://cool.ntu.edu.tw/courses/4793/modules/items/176529\n",
        "\n",
        "\n",
        "Objectives:\n",
        "* Solve a regression problem with deep neural networks (DNN).\n",
        "* Understand basic DNN training tips.\n",
        "* Get familiar with PyTorch.\n",
        "\n",
        "If any questions, please contact the TAs via TA hours, NTU COOL, or email.\n"
      ]
    },
    {
      "cell_type": "markdown",
      "metadata": {
        "id": "Jx3x1nDkG-Uy"
      },
      "source": [
        "# **Download Data**\n",
        "\n",
        "\n",
        "If the Google drive links are dead, you can download data from [kaggle](https://www.kaggle.com/c/ml2021spring-hw1/data), and upload data manually to the workspace."
      ]
    },
    {
      "cell_type": "code",
      "metadata": {
        "colab": {
          "base_uri": "https://localhost:8080/"
        },
        "id": "tMj55YDKG6ch",
        "outputId": "6089fbf0-8f8d-4a09-bf16-119e8a01e2ae"
      },
      "source": [
        "tr_path = 'covid.train.csv'  # path to training data\n",
        "tt_path = 'covid.test.csv'   # path to testing data\n",
        "\n",
        "!gdown --id '19CCyCgJrUxtvgZF53vnctJiOJ23T5mqF' --output covid.train.csv\n",
        "!gdown --id '1CE240jLm2npU-tdz81-oVKEF3T2yfT1O' --output covid.test.csv"
      ],
      "execution_count": 61,
      "outputs": [
        {
          "output_type": "stream",
          "name": "stdout",
          "text": [
            "/usr/local/lib/python3.11/dist-packages/gdown/__main__.py:140: FutureWarning: Option `--id` was deprecated in version 4.3.1 and will be removed in 5.0. You don't need to pass it anymore to use a file ID.\n",
            "  warnings.warn(\n",
            "Downloading...\n",
            "From: https://drive.google.com/uc?id=19CCyCgJrUxtvgZF53vnctJiOJ23T5mqF\n",
            "To: /content/covid.train.csv\n",
            "100% 2.00M/2.00M [00:00<00:00, 189MB/s]\n",
            "/usr/local/lib/python3.11/dist-packages/gdown/__main__.py:140: FutureWarning: Option `--id` was deprecated in version 4.3.1 and will be removed in 5.0. You don't need to pass it anymore to use a file ID.\n",
            "  warnings.warn(\n",
            "Downloading...\n",
            "From: https://drive.google.com/uc?id=1CE240jLm2npU-tdz81-oVKEF3T2yfT1O\n",
            "To: /content/covid.test.csv\n",
            "100% 651k/651k [00:00<00:00, 139MB/s]\n"
          ]
        }
      ]
    },
    {
      "cell_type": "markdown",
      "metadata": {
        "id": "wS_4-77xHk44"
      },
      "source": [
        "# **Import Some Packages**"
      ]
    },
    {
      "cell_type": "code",
      "metadata": {
        "id": "k-onQd4JNA5H"
      },
      "source": [
        "# PyTorch\n",
        "import torch\n",
        "import torch.nn as nn\n",
        "from torch.utils.data import Dataset, DataLoader\n",
        "\n",
        "# For data preprocess\n",
        "import numpy as np\n",
        "import csv\n",
        "import os\n",
        "\n",
        "# For plotting\n",
        "import matplotlib.pyplot as plt\n",
        "from matplotlib.pyplot import figure\n",
        "\n",
        "myseed = 42069  # set a random seed for reproducibility\n",
        "torch.backends.cudnn.deterministic = True\n",
        "torch.backends.cudnn.benchmark = False\n",
        "np.random.seed(myseed)\n",
        "torch.manual_seed(myseed)\n",
        "if torch.cuda.is_available():\n",
        "    torch.cuda.manual_seed_all(myseed)"
      ],
      "execution_count": 62,
      "outputs": []
    },
    {
      "cell_type": "markdown",
      "metadata": {
        "id": "BtE3b6JEH7rw"
      },
      "source": [
        "# **Some Utilities**\n",
        "\n",
        "You do not need to modify this part."
      ]
    },
    {
      "cell_type": "code",
      "metadata": {
        "id": "FWMT3uf1NGQp"
      },
      "source": [
        "def get_device():\n",
        "    ''' Get device (if GPU is available, use GPU) '''\n",
        "    return 'cuda' if torch.cuda.is_available() else 'cpu'\n",
        "\n",
        "def plot_learning_curve(loss_record, title=''):\n",
        "    ''' Plot learning curve of your DNN (train & dev loss) '''\n",
        "    total_steps = len(loss_record['train'])\n",
        "    x_1 = range(total_steps)\n",
        "    x_2 = x_1[::len(loss_record['train']) // len(loss_record['dev'])]\n",
        "    figure(figsize=(6, 4))\n",
        "    plt.plot(x_1, loss_record['train'], c='tab:red', label='train')\n",
        "    plt.plot(x_2, loss_record['dev'], c='tab:cyan', label='dev')\n",
        "    plt.ylim(0.0, 5.)\n",
        "    plt.xlabel('Training steps')\n",
        "    plt.ylabel('MSE loss')\n",
        "    plt.title('Learning curve of {}'.format(title))\n",
        "    plt.legend()\n",
        "    plt.show()\n",
        "\n",
        "\n",
        "def plot_pred(dv_set, model, device, lim=35., preds=None, targets=None):\n",
        "    ''' Plot prediction of your DNN '''\n",
        "    if preds is None or targets is None:\n",
        "        model.eval()\n",
        "        preds, targets = [], []\n",
        "        for x, y in dv_set:\n",
        "            x, y = x.to(device), y.to(device)\n",
        "            with torch.no_grad():\n",
        "                pred = model(x)\n",
        "                preds.append(pred.detach().cpu())\n",
        "                targets.append(y.detach().cpu())\n",
        "        preds = torch.cat(preds, dim=0).numpy()\n",
        "        targets = torch.cat(targets, dim=0).numpy()\n",
        "\n",
        "    figure(figsize=(5, 5))\n",
        "    plt.scatter(targets, preds, c='r', alpha=0.5)\n",
        "    plt.plot([-0.2, lim], [-0.2, lim], c='b')\n",
        "    plt.xlim(-0.2, lim)\n",
        "    plt.ylim(-0.2, lim)\n",
        "    plt.xlabel('ground truth value')\n",
        "    plt.ylabel('predicted value')\n",
        "    plt.title('Ground Truth v.s. Prediction')\n",
        "    plt.show()"
      ],
      "execution_count": 63,
      "outputs": []
    },
    {
      "cell_type": "markdown",
      "metadata": {
        "id": "39U_XFX6KOoj"
      },
      "source": [
        "# **Preprocess**\n",
        "\n",
        "We have three kinds of datasets:\n",
        "* `train`: for training\n",
        "* `dev`: for validation\n",
        "* `test`: for testing (w/o target value)"
      ]
    },
    {
      "cell_type": "markdown",
      "metadata": {
        "id": "TQ-MdwpLL7Dt"
      },
      "source": [
        "## **Dataset**\n",
        "\n",
        "The `COVID19Dataset` below does:\n",
        "* read `.csv` files\n",
        "* extract features\n",
        "* split `covid.train.csv` into train/dev sets\n",
        "* normalize features\n",
        "\n",
        "Finishing `TODO` below might make you pass medium baseline."
      ]
    },
    {
      "cell_type": "code",
      "metadata": {
        "id": "0zlpIp9ANJRU"
      },
      "source": [
        "class COVID19Dataset(Dataset):\n",
        "    ''' Dataset for loading and preprocessing the COVID19 dataset '''\n",
        "    def __init__(self,\n",
        "                 path,\n",
        "                 mode='train',\n",
        "                 target_only=False):\n",
        "        self.mode = mode\n",
        "\n",
        "        # Read data into numpy arrays\n",
        "        with open(path, 'r') as fp:\n",
        "            data = list(csv.reader(fp))\n",
        "            data = np.array(data[1:])[:, 1:].astype(float)\n",
        "\n",
        "        if not target_only:\n",
        "            feats = list(range(93))\n",
        "        else:\n",
        "            # TODO: Using 40 states & 2 tested_positive features (indices = 57 & 75)\n",
        "            # feats = list(range(40)) + [57,75]\n",
        "            feats =  [75, 57, 42, 60, 78, 43, 61, 79, 40, 58, 76, 41, 59, 77] # 来自https://www.kaggle.com/competitions/ml2021spring-hw1/discussion/406651\n",
        "            pass\n",
        "\n",
        "        if mode == 'test':\n",
        "            # Testing data\n",
        "            # data: 893 x 93 (40 states + day 1 (18) + day 2 (18) + day 3 (17))\n",
        "            data = data[:, feats]\n",
        "            self.data = torch.FloatTensor(data)\n",
        "        else:\n",
        "            # Training data (train/dev sets)\n",
        "            # data: 2700 x 94 (40 states + day 1 (18) + day 2 (18) + day 3 (18))\n",
        "            target = data[:, -1]\n",
        "            data = data[:, feats]\n",
        "\n",
        "            # Splitting training data into train & dev sets\n",
        "            if mode == 'train':\n",
        "                indices = [i for i in range(len(data)) if i % 10 != 0]\n",
        "            elif mode == 'dev':\n",
        "                indices = [i for i in range(len(data)) if i % 10 == 0]\n",
        "\n",
        "            # Convert data into PyTorch tensors\n",
        "            self.data = torch.FloatTensor(data[indices])\n",
        "            self.target = torch.FloatTensor(target[indices])\n",
        "\n",
        "        # Normalize features (you may remove this part to see what will happen)\n",
        "        self.data[:, 40:] = \\\n",
        "            (self.data[:, 40:] - self.data[:, 40:].mean(dim=0, keepdim=True)) \\\n",
        "            / self.data[:, 40:].std(dim=0, keepdim=True)\n",
        "\n",
        "        self.dim = self.data.shape[1]\n",
        "\n",
        "        print('Finished reading the {} set of COVID19 Dataset ({} samples found, each dim = {})'\n",
        "              .format(mode, len(self.data), self.dim))\n",
        "\n",
        "    def __getitem__(self, index):\n",
        "        # Returns one sample at a time\n",
        "        if self.mode in ['train', 'dev']:\n",
        "            # For training\n",
        "            return self.data[index], self.target[index]\n",
        "        else:\n",
        "            # For testing (no target)\n",
        "            return self.data[index]\n",
        "\n",
        "    def __len__(self):\n",
        "        # Returns the size of the dataset\n",
        "        return len(self.data)"
      ],
      "execution_count": 64,
      "outputs": []
    },
    {
      "cell_type": "markdown",
      "metadata": {
        "id": "AlhTlkE7MDo3"
      },
      "source": [
        "## **DataLoader**\n",
        "\n",
        "A `DataLoader` loads data from a given `Dataset` into batches.\n"
      ]
    },
    {
      "cell_type": "code",
      "metadata": {
        "id": "hlhLk5t6MBX3"
      },
      "source": [
        "def prep_dataloader(path, mode, batch_size, n_jobs=0, target_only=False):\n",
        "    ''' Generates a dataset, then is put into a dataloader. '''\n",
        "    dataset = COVID19Dataset(path, mode=mode, target_only=target_only)  # Construct dataset\n",
        "    dataloader = DataLoader(\n",
        "        dataset, batch_size,\n",
        "        shuffle=(mode == 'train'), drop_last=False,\n",
        "        num_workers=n_jobs, pin_memory=True)                            # Construct dataloader\n",
        "    return dataloader"
      ],
      "execution_count": 65,
      "outputs": []
    },
    {
      "cell_type": "markdown",
      "metadata": {
        "id": "SGuycwR0MeQB"
      },
      "source": [
        "# **Deep Neural Network**\n",
        "\n",
        "`NeuralNet` is an `nn.Module` designed for regression.\n",
        "The DNN consists of 2 fully-connected layers with ReLU activation.\n",
        "This module also included a function `cal_loss` for calculating loss.\n"
      ]
    },
    {
      "cell_type": "code",
      "metadata": {
        "id": "49-uXYovOAI0"
      },
      "source": [
        "class NeuralNet(nn.Module):\n",
        "    ''' A simple fully-connected deep neural network '''\n",
        "    def __init__(self, input_dim):\n",
        "        super(NeuralNet, self).__init__()\n",
        "\n",
        "        # Define your neural network here\n",
        "        # TODO: How to modify this model to achieve better performance?\n",
        "        self.net = nn.Sequential(\n",
        "            nn.Linear(input_dim, 64),\n",
        "            nn.ReLU(),\n",
        "            nn.Linear(64, 1)\n",
        "        )\n",
        "\n",
        "        # Mean squared error loss\n",
        "        self.criterion = nn.MSELoss(reduction='mean')\n",
        "\n",
        "    def forward(self, x):\n",
        "        ''' Given input of size (batch_size x input_dim), compute output of the network '''\n",
        "        return self.net(x).squeeze(1)\n",
        "\n",
        "    def cal_loss(self, pred, target):\n",
        "        ''' Calculate loss '''\n",
        "        # TODO: you may implement L1/L2 regularization here\n",
        "        return self.criterion(pred, target)"
      ],
      "execution_count": 66,
      "outputs": []
    },
    {
      "cell_type": "markdown",
      "metadata": {
        "id": "DvFWVjZ5Nvga"
      },
      "source": [
        "# **Train/Dev/Test**"
      ]
    },
    {
      "cell_type": "markdown",
      "metadata": {
        "id": "MAM8QecJOyqn"
      },
      "source": [
        "## **Training**"
      ]
    },
    {
      "cell_type": "code",
      "metadata": {
        "id": "lOqcmYzMO7jB"
      },
      "source": [
        "def train(tr_set, dv_set, model, config, device):\n",
        "    ''' DNN training '''\n",
        "\n",
        "    n_epochs = config['n_epochs']  # Maximum number of epochs\n",
        "\n",
        "    # Setup optimizer\n",
        "    optimizer = getattr(torch.optim, config['optimizer'])(\n",
        "        model.parameters(), **config['optim_hparas'])\n",
        "\n",
        "    min_mse = 1000.\n",
        "    loss_record = {'train': [], 'dev': []}      # for recording training loss\n",
        "    early_stop_cnt = 0\n",
        "    epoch = 0\n",
        "    while epoch < n_epochs:\n",
        "        model.train()                           # set model to training mode\n",
        "        for x, y in tr_set:                     # iterate through the dataloader\n",
        "            optimizer.zero_grad()               # set gradient to zero\n",
        "            x, y = x.to(device), y.to(device)   # move data to device (cpu/cuda)\n",
        "            pred = model(x)                     # forward pass (compute output)\n",
        "            mse_loss = model.cal_loss(pred, y)  # compute loss\n",
        "            mse_loss.backward()                 # compute gradient (backpropagation)\n",
        "            optimizer.step()                    # update model with optimizer\n",
        "            loss_record['train'].append(mse_loss.detach().cpu().item())\n",
        "\n",
        "        # After each epoch, test your model on the validation (development) set.\n",
        "        dev_mse = dev(dv_set, model, device)\n",
        "        if dev_mse < min_mse:\n",
        "            # Save model if your model improved\n",
        "            min_mse = dev_mse\n",
        "            print('Saving model (epoch = {:4d}, loss = {:.4f})'\n",
        "                .format(epoch + 1, min_mse))\n",
        "            torch.save(model.state_dict(), config['save_path'])  # Save model to specified path\n",
        "            early_stop_cnt = 0\n",
        "        else:\n",
        "            early_stop_cnt += 1\n",
        "\n",
        "        epoch += 1\n",
        "        loss_record['dev'].append(dev_mse)\n",
        "        if early_stop_cnt > config['early_stop']:\n",
        "            # Stop training if your model stops improving for \"config['early_stop']\" epochs.\n",
        "            break\n",
        "\n",
        "    print('Finished training after {} epochs'.format(epoch))\n",
        "    return min_mse, loss_record"
      ],
      "execution_count": 67,
      "outputs": []
    },
    {
      "cell_type": "markdown",
      "metadata": {
        "id": "0hSd4Bn3O2PL"
      },
      "source": [
        "## **Validation**"
      ]
    },
    {
      "cell_type": "code",
      "metadata": {
        "id": "yrxrD3YsN3U2"
      },
      "source": [
        "def dev(dv_set, model, device):\n",
        "    model.eval()                                # set model to evalutation mode\n",
        "    total_loss = 0\n",
        "    for x, y in dv_set:                         # iterate through the dataloader\n",
        "        x, y = x.to(device), y.to(device)       # move data to device (cpu/cuda)\n",
        "        with torch.no_grad():                   # disable gradient calculation\n",
        "            pred = model(x)                     # forward pass (compute output)\n",
        "            mse_loss = model.cal_loss(pred, y)  # compute loss\n",
        "        total_loss += mse_loss.detach().cpu().item() * len(x)  # accumulate loss\n",
        "    total_loss = total_loss / len(dv_set.dataset)              # compute averaged loss\n",
        "\n",
        "    return total_loss"
      ],
      "execution_count": 68,
      "outputs": []
    },
    {
      "cell_type": "markdown",
      "metadata": {
        "id": "g0pdrhQAO41L"
      },
      "source": [
        "## **Testing**"
      ]
    },
    {
      "cell_type": "code",
      "metadata": {
        "id": "aSBMRFlYN5tB"
      },
      "source": [
        "def test(tt_set, model, device):\n",
        "    model.eval()                                # set model to evalutation mode\n",
        "    preds = []\n",
        "    for x in tt_set:                            # iterate through the dataloader\n",
        "        x = x.to(device)                        # move data to device (cpu/cuda)\n",
        "        with torch.no_grad():                   # disable gradient calculation\n",
        "            pred = model(x)                     # forward pass (compute output)\n",
        "            preds.append(pred.detach().cpu())   # collect prediction\n",
        "    preds = torch.cat(preds, dim=0).numpy()     # concatenate all predictions and convert to a numpy array\n",
        "    return preds"
      ],
      "execution_count": 69,
      "outputs": []
    },
    {
      "cell_type": "markdown",
      "metadata": {
        "id": "SvckkF5dvf0j"
      },
      "source": [
        "# **Setup Hyper-parameters**\n",
        "\n",
        "`config` contains hyper-parameters for training and the path to save your model."
      ]
    },
    {
      "cell_type": "code",
      "metadata": {
        "id": "NPXpdumwPjE7"
      },
      "source": [
        "device = get_device()                 # get the current available device ('cpu' or 'cuda')\n",
        "os.makedirs('models', exist_ok=True)  # The trained model will be saved to ./models/\n",
        "target_only = True                   # TODO: Using 40 states & 2 tested_positive features\n",
        "\n",
        "# TODO: How to tune these hyper-parameters to improve your model's performance?\n",
        "config = {\n",
        "    'n_epochs': 3000,                # maximum number of epochs\n",
        "    'batch_size': 300,               # mini-batch size for dataloader\n",
        "    # 'optimizer': 'SGD',              # optimization algorithm (optimizer in torch.optim)\n",
        "    # 'optim_hparas': {                # hyper-parameters for the optimizer (depends on which optimizer you are using)\n",
        "    #     'lr': 0.001,                 # learning rate of SGD\n",
        "    #     'momentum': 0.9              # momentum for SGD\n",
        "    # },\n",
        "    'optimizer': 'Adam',              # changed from SGD to Adam\n",
        "    'optim_hparas': {                # hyper-parameters for the optimizer\n",
        "        'lr': 0.001,                 # learning rate (typical default is 0.001)\n",
        "        'betas': (0.9, 0.999),       # coefficients for computing running averages of gradient and its square\n",
        "        'eps': 1e-8,                 # term added to denominator to improve numerical stability\n",
        "        'weight_decay': 0,           # weight decay (L2 penalty)\n",
        "        'amsgrad': False             # whether to use the AMSGrad variant\n",
        "    },\n",
        "    'early_stop': 200,               # early stopping epochs (the number epochs since your model's last improvement)\n",
        "    'save_path': 'models/model.pth'  # your model will be saved here\n",
        "}"
      ],
      "execution_count": 70,
      "outputs": []
    },
    {
      "cell_type": "markdown",
      "metadata": {
        "id": "6j1eOV3TOH-j"
      },
      "source": [
        "# **Load data and model**"
      ]
    },
    {
      "cell_type": "code",
      "metadata": {
        "colab": {
          "base_uri": "https://localhost:8080/"
        },
        "id": "eNrYBMmePLKm",
        "outputId": "0f463cc6-6906-469c-d654-bfdb38ca7e0a"
      },
      "source": [
        "tr_set = prep_dataloader(tr_path, 'train', config['batch_size'], target_only=target_only)\n",
        "dv_set = prep_dataloader(tr_path, 'dev', config['batch_size'], target_only=target_only)\n",
        "tt_set = prep_dataloader(tt_path, 'test', config['batch_size'], target_only=target_only)"
      ],
      "execution_count": 71,
      "outputs": [
        {
          "output_type": "stream",
          "name": "stdout",
          "text": [
            "Finished reading the train set of COVID19 Dataset (2430 samples found, each dim = 93)\n",
            "Finished reading the dev set of COVID19 Dataset (270 samples found, each dim = 93)\n",
            "Finished reading the test set of COVID19 Dataset (893 samples found, each dim = 93)\n"
          ]
        }
      ]
    },
    {
      "cell_type": "code",
      "metadata": {
        "id": "FHylSirLP9oh"
      },
      "source": [
        "model = NeuralNet(tr_set.dataset.dim).to(device)  # Construct model and move to device"
      ],
      "execution_count": 72,
      "outputs": []
    },
    {
      "cell_type": "markdown",
      "metadata": {
        "id": "sX2B_zgSOPTJ"
      },
      "source": [
        "# **Start Training!**"
      ]
    },
    {
      "cell_type": "code",
      "metadata": {
        "colab": {
          "base_uri": "https://localhost:8080/"
        },
        "id": "GrEbUxazQAAZ",
        "outputId": "f14f58ec-3fde-46c1-bb39-fbb1ef473d36"
      },
      "source": [
        "model_loss, model_loss_record = train(tr_set, dv_set, model, config, device)"
      ],
      "execution_count": 73,
      "outputs": [
        {
          "output_type": "stream",
          "name": "stdout",
          "text": [
            "Saving model (epoch =    1, loss = 311.4163)\n",
            "Saving model (epoch =    2, loss = 294.2383)\n",
            "Saving model (epoch =    3, loss = 275.5746)\n",
            "Saving model (epoch =    4, loss = 254.3422)\n",
            "Saving model (epoch =    5, loss = 230.5314)\n",
            "Saving model (epoch =    6, loss = 204.7568)\n",
            "Saving model (epoch =    7, loss = 177.8487)\n",
            "Saving model (epoch =    8, loss = 150.3370)\n",
            "Saving model (epoch =    9, loss = 123.7385)\n",
            "Saving model (epoch =   10, loss = 99.4989)\n",
            "Saving model (epoch =   11, loss = 78.7970)\n",
            "Saving model (epoch =   12, loss = 62.4263)\n",
            "Saving model (epoch =   13, loss = 50.1996)\n",
            "Saving model (epoch =   14, loss = 42.1010)\n",
            "Saving model (epoch =   15, loss = 37.1323)\n",
            "Saving model (epoch =   16, loss = 34.2691)\n",
            "Saving model (epoch =   17, loss = 32.5652)\n",
            "Saving model (epoch =   18, loss = 31.3998)\n",
            "Saving model (epoch =   19, loss = 30.4291)\n",
            "Saving model (epoch =   20, loss = 29.5473)\n",
            "Saving model (epoch =   21, loss = 28.6751)\n",
            "Saving model (epoch =   22, loss = 27.8272)\n",
            "Saving model (epoch =   23, loss = 27.0060)\n",
            "Saving model (epoch =   24, loss = 26.2279)\n",
            "Saving model (epoch =   25, loss = 25.4529)\n",
            "Saving model (epoch =   26, loss = 24.6992)\n",
            "Saving model (epoch =   27, loss = 23.9604)\n",
            "Saving model (epoch =   28, loss = 23.2093)\n",
            "Saving model (epoch =   29, loss = 22.4731)\n",
            "Saving model (epoch =   30, loss = 21.7417)\n",
            "Saving model (epoch =   31, loss = 20.9702)\n",
            "Saving model (epoch =   32, loss = 20.2313)\n",
            "Saving model (epoch =   33, loss = 19.4346)\n",
            "Saving model (epoch =   34, loss = 18.6337)\n",
            "Saving model (epoch =   35, loss = 17.8590)\n",
            "Saving model (epoch =   36, loss = 17.0762)\n",
            "Saving model (epoch =   37, loss = 16.2770)\n",
            "Saving model (epoch =   38, loss = 15.5180)\n",
            "Saving model (epoch =   39, loss = 14.7701)\n",
            "Saving model (epoch =   40, loss = 14.0501)\n",
            "Saving model (epoch =   41, loss = 13.2546)\n",
            "Saving model (epoch =   42, loss = 12.5406)\n",
            "Saving model (epoch =   43, loss = 11.8753)\n",
            "Saving model (epoch =   44, loss = 11.2493)\n",
            "Saving model (epoch =   45, loss = 10.6502)\n",
            "Saving model (epoch =   46, loss = 10.0706)\n",
            "Saving model (epoch =   47, loss = 9.5451)\n",
            "Saving model (epoch =   48, loss = 9.0387)\n",
            "Saving model (epoch =   49, loss = 8.5835)\n",
            "Saving model (epoch =   50, loss = 8.1571)\n",
            "Saving model (epoch =   51, loss = 7.7821)\n",
            "Saving model (epoch =   52, loss = 7.4061)\n",
            "Saving model (epoch =   53, loss = 7.0509)\n",
            "Saving model (epoch =   54, loss = 6.7134)\n",
            "Saving model (epoch =   55, loss = 6.4021)\n",
            "Saving model (epoch =   56, loss = 6.1071)\n",
            "Saving model (epoch =   57, loss = 5.8786)\n",
            "Saving model (epoch =   58, loss = 5.6467)\n",
            "Saving model (epoch =   59, loss = 5.4173)\n",
            "Saving model (epoch =   60, loss = 5.1996)\n",
            "Saving model (epoch =   61, loss = 5.0387)\n",
            "Saving model (epoch =   62, loss = 4.8351)\n",
            "Saving model (epoch =   63, loss = 4.6712)\n",
            "Saving model (epoch =   64, loss = 4.5299)\n",
            "Saving model (epoch =   65, loss = 4.3710)\n",
            "Saving model (epoch =   66, loss = 4.2385)\n",
            "Saving model (epoch =   67, loss = 4.1282)\n",
            "Saving model (epoch =   68, loss = 4.0032)\n",
            "Saving model (epoch =   69, loss = 3.8909)\n",
            "Saving model (epoch =   70, loss = 3.7963)\n",
            "Saving model (epoch =   71, loss = 3.6771)\n",
            "Saving model (epoch =   72, loss = 3.5787)\n",
            "Saving model (epoch =   73, loss = 3.5084)\n",
            "Saving model (epoch =   74, loss = 3.4445)\n",
            "Saving model (epoch =   75, loss = 3.3596)\n",
            "Saving model (epoch =   76, loss = 3.2857)\n",
            "Saving model (epoch =   77, loss = 3.2286)\n",
            "Saving model (epoch =   78, loss = 3.1773)\n",
            "Saving model (epoch =   79, loss = 3.0925)\n",
            "Saving model (epoch =   80, loss = 3.0447)\n",
            "Saving model (epoch =   81, loss = 3.0178)\n",
            "Saving model (epoch =   82, loss = 2.9622)\n",
            "Saving model (epoch =   83, loss = 2.8737)\n",
            "Saving model (epoch =   84, loss = 2.8253)\n",
            "Saving model (epoch =   85, loss = 2.7914)\n",
            "Saving model (epoch =   86, loss = 2.7486)\n",
            "Saving model (epoch =   87, loss = 2.7300)\n",
            "Saving model (epoch =   88, loss = 2.6534)\n",
            "Saving model (epoch =   89, loss = 2.6421)\n",
            "Saving model (epoch =   90, loss = 2.5994)\n",
            "Saving model (epoch =   91, loss = 2.5452)\n",
            "Saving model (epoch =   92, loss = 2.5403)\n",
            "Saving model (epoch =   93, loss = 2.4941)\n",
            "Saving model (epoch =   94, loss = 2.4577)\n",
            "Saving model (epoch =   95, loss = 2.4211)\n",
            "Saving model (epoch =   96, loss = 2.4027)\n",
            "Saving model (epoch =   97, loss = 2.3659)\n",
            "Saving model (epoch =   98, loss = 2.3460)\n",
            "Saving model (epoch =   99, loss = 2.3044)\n",
            "Saving model (epoch =  100, loss = 2.2898)\n",
            "Saving model (epoch =  101, loss = 2.2673)\n",
            "Saving model (epoch =  102, loss = 2.2407)\n",
            "Saving model (epoch =  103, loss = 2.2121)\n",
            "Saving model (epoch =  104, loss = 2.2073)\n",
            "Saving model (epoch =  105, loss = 2.1905)\n",
            "Saving model (epoch =  106, loss = 2.1488)\n",
            "Saving model (epoch =  107, loss = 2.1399)\n",
            "Saving model (epoch =  108, loss = 2.1185)\n",
            "Saving model (epoch =  109, loss = 2.0927)\n",
            "Saving model (epoch =  111, loss = 2.0410)\n",
            "Saving model (epoch =  113, loss = 2.0281)\n",
            "Saving model (epoch =  114, loss = 1.9950)\n",
            "Saving model (epoch =  116, loss = 1.9684)\n",
            "Saving model (epoch =  117, loss = 1.9520)\n",
            "Saving model (epoch =  118, loss = 1.9488)\n",
            "Saving model (epoch =  119, loss = 1.9294)\n",
            "Saving model (epoch =  120, loss = 1.8994)\n",
            "Saving model (epoch =  122, loss = 1.8731)\n",
            "Saving model (epoch =  125, loss = 1.8342)\n",
            "Saving model (epoch =  126, loss = 1.8197)\n",
            "Saving model (epoch =  127, loss = 1.8037)\n",
            "Saving model (epoch =  128, loss = 1.7947)\n",
            "Saving model (epoch =  129, loss = 1.7822)\n",
            "Saving model (epoch =  130, loss = 1.7721)\n",
            "Saving model (epoch =  131, loss = 1.7641)\n",
            "Saving model (epoch =  132, loss = 1.7446)\n",
            "Saving model (epoch =  133, loss = 1.7367)\n",
            "Saving model (epoch =  134, loss = 1.7137)\n",
            "Saving model (epoch =  135, loss = 1.7083)\n",
            "Saving model (epoch =  137, loss = 1.6987)\n",
            "Saving model (epoch =  138, loss = 1.6720)\n",
            "Saving model (epoch =  139, loss = 1.6519)\n",
            "Saving model (epoch =  141, loss = 1.6391)\n",
            "Saving model (epoch =  143, loss = 1.6084)\n",
            "Saving model (epoch =  145, loss = 1.6050)\n",
            "Saving model (epoch =  146, loss = 1.5995)\n",
            "Saving model (epoch =  147, loss = 1.5938)\n",
            "Saving model (epoch =  148, loss = 1.5776)\n",
            "Saving model (epoch =  150, loss = 1.5245)\n",
            "Saving model (epoch =  154, loss = 1.5186)\n",
            "Saving model (epoch =  155, loss = 1.5035)\n",
            "Saving model (epoch =  158, loss = 1.5029)\n",
            "Saving model (epoch =  159, loss = 1.5009)\n",
            "Saving model (epoch =  160, loss = 1.4842)\n",
            "Saving model (epoch =  161, loss = 1.4719)\n",
            "Saving model (epoch =  163, loss = 1.4651)\n",
            "Saving model (epoch =  164, loss = 1.4559)\n",
            "Saving model (epoch =  166, loss = 1.4288)\n",
            "Saving model (epoch =  167, loss = 1.4174)\n",
            "Saving model (epoch =  168, loss = 1.3962)\n",
            "Saving model (epoch =  171, loss = 1.3925)\n",
            "Saving model (epoch =  173, loss = 1.3882)\n",
            "Saving model (epoch =  174, loss = 1.3761)\n",
            "Saving model (epoch =  175, loss = 1.3724)\n",
            "Saving model (epoch =  176, loss = 1.3561)\n",
            "Saving model (epoch =  178, loss = 1.3508)\n",
            "Saving model (epoch =  180, loss = 1.3261)\n",
            "Saving model (epoch =  183, loss = 1.3107)\n",
            "Saving model (epoch =  186, loss = 1.3028)\n",
            "Saving model (epoch =  188, loss = 1.2911)\n",
            "Saving model (epoch =  191, loss = 1.2859)\n",
            "Saving model (epoch =  192, loss = 1.2800)\n",
            "Saving model (epoch =  193, loss = 1.2510)\n",
            "Saving model (epoch =  196, loss = 1.2505)\n",
            "Saving model (epoch =  198, loss = 1.2464)\n",
            "Saving model (epoch =  202, loss = 1.2346)\n",
            "Saving model (epoch =  203, loss = 1.2249)\n",
            "Saving model (epoch =  205, loss = 1.2221)\n",
            "Saving model (epoch =  206, loss = 1.2106)\n",
            "Saving model (epoch =  207, loss = 1.2069)\n",
            "Saving model (epoch =  208, loss = 1.2047)\n",
            "Saving model (epoch =  209, loss = 1.1760)\n",
            "Saving model (epoch =  218, loss = 1.1754)\n",
            "Saving model (epoch =  224, loss = 1.1727)\n",
            "Saving model (epoch =  227, loss = 1.1665)\n",
            "Saving model (epoch =  228, loss = 1.1523)\n",
            "Saving model (epoch =  231, loss = 1.1375)\n",
            "Saving model (epoch =  235, loss = 1.1339)\n",
            "Saving model (epoch =  236, loss = 1.1211)\n",
            "Saving model (epoch =  237, loss = 1.1159)\n",
            "Saving model (epoch =  238, loss = 1.1061)\n",
            "Saving model (epoch =  241, loss = 1.0980)\n",
            "Saving model (epoch =  245, loss = 1.0910)\n",
            "Saving model (epoch =  255, loss = 1.0838)\n",
            "Saving model (epoch =  260, loss = 1.0807)\n",
            "Saving model (epoch =  264, loss = 1.0674)\n",
            "Saving model (epoch =  266, loss = 1.0665)\n",
            "Saving model (epoch =  268, loss = 1.0585)\n",
            "Saving model (epoch =  269, loss = 1.0492)\n",
            "Saving model (epoch =  273, loss = 1.0367)\n",
            "Saving model (epoch =  285, loss = 1.0279)\n",
            "Saving model (epoch =  287, loss = 1.0250)\n",
            "Saving model (epoch =  289, loss = 1.0203)\n",
            "Saving model (epoch =  296, loss = 1.0143)\n",
            "Saving model (epoch =  297, loss = 0.9933)\n",
            "Saving model (epoch =  300, loss = 0.9844)\n",
            "Saving model (epoch =  310, loss = 0.9721)\n",
            "Saving model (epoch =  319, loss = 0.9671)\n",
            "Saving model (epoch =  320, loss = 0.9602)\n",
            "Saving model (epoch =  325, loss = 0.9594)\n",
            "Saving model (epoch =  329, loss = 0.9579)\n",
            "Saving model (epoch =  331, loss = 0.9566)\n",
            "Saving model (epoch =  332, loss = 0.9449)\n",
            "Saving model (epoch =  344, loss = 0.9436)\n",
            "Saving model (epoch =  348, loss = 0.9281)\n",
            "Saving model (epoch =  362, loss = 0.9255)\n",
            "Saving model (epoch =  363, loss = 0.9240)\n",
            "Saving model (epoch =  371, loss = 0.9052)\n",
            "Saving model (epoch =  388, loss = 0.9030)\n",
            "Saving model (epoch =  394, loss = 0.8933)\n",
            "Saving model (epoch =  417, loss = 0.8786)\n",
            "Saving model (epoch =  421, loss = 0.8682)\n",
            "Saving model (epoch =  435, loss = 0.8575)\n",
            "Saving model (epoch =  456, loss = 0.8522)\n",
            "Saving model (epoch =  480, loss = 0.8401)\n",
            "Saving model (epoch =  541, loss = 0.8375)\n",
            "Saving model (epoch =  548, loss = 0.8300)\n",
            "Saving model (epoch =  552, loss = 0.8220)\n",
            "Saving model (epoch =  560, loss = 0.8137)\n",
            "Saving model (epoch =  623, loss = 0.8101)\n",
            "Saving model (epoch =  649, loss = 0.8032)\n",
            "Saving model (epoch =  698, loss = 0.8030)\n",
            "Finished training after 899 epochs\n"
          ]
        }
      ]
    },
    {
      "cell_type": "code",
      "metadata": {
        "colab": {
          "base_uri": "https://localhost:8080/",
          "height": 410
        },
        "id": "hsNO9nnXQBvP",
        "outputId": "48249e94-75f7-4fb0-c017-8aa45c536946"
      },
      "source": [
        "plot_learning_curve(model_loss_record, title='deep model')"
      ],
      "execution_count": 74,
      "outputs": [
        {
          "output_type": "display_data",
          "data": {
            "text/plain": [
              "<Figure size 600x400 with 1 Axes>"
            ],
            "image/png": "[encoded data removed]"
          },
          "metadata": {}
        }
      ]
    },
    {
      "cell_type": "code",
      "metadata": {
        "colab": {
          "base_uri": "https://localhost:8080/",
          "height": 487
        },
        "id": "3iZTVn5WQFpX",
        "outputId": "b7723ddf-02e1-4f0a-fc93-a8e0713051b3"
      },
      "source": [
        "del model\n",
        "model = NeuralNet(tr_set.dataset.dim).to(device)\n",
        "ckpt = torch.load(config['save_path'], map_location='cpu')  # Load your best model\n",
        "model.load_state_dict(ckpt)\n",
        "plot_pred(dv_set, model, device)  # Show prediction on the validation set"
      ],
      "execution_count": 75,
      "outputs": [
        {
          "output_type": "display_data",
          "data": {
            "text/plain": [
              "<Figure size 500x500 with 1 Axes>"
            ],
            "image/png": "[encoded data removed]"
          },
          "metadata": {}
        }
      ]
    },
    {
      "cell_type": "markdown",
      "metadata": {
        "id": "aQikz3IPiyPf"
      },
      "source": [
        "# **Testing**\n",
        "The predictions of your model on testing set will be stored at `pred.csv`."
      ]
    },
    {
      "cell_type": "code",
      "metadata": {
        "colab": {
          "base_uri": "https://localhost:8080/"
        },
        "id": "O8cTuQjQQOon",
        "outputId": "d7eda03a-6360-4225-974d-0e377e67f6f7"
      },
      "source": [
        "def save_pred(preds, file):\n",
        "    ''' Save predictions to specified file '''\n",
        "    print('Saving results to {}'.format(file))\n",
        "    with open(file, 'w') as fp:\n",
        "        writer = csv.writer(fp)\n",
        "        writer.writerow(['id', 'tested_positive'])\n",
        "        for i, p in enumerate(preds):\n",
        "            writer.writerow([i, p])\n",
        "\n",
        "preds = test(tt_set, model, device)  # predict COVID-19 cases with your model\n",
        "save_pred(preds, 'pred.csv')         # save prediction file to pred.csv"
      ],
      "execution_count": 76,
      "outputs": [
        {
          "output_type": "stream",
          "name": "stdout",
          "text": [
            "Saving results to pred.csv\n"
          ]
        }
      ]
    },
    {
      "cell_type": "markdown",
      "metadata": {
        "id": "nfrVxqJanGpE"
      },
      "source": [
        "# **Hints**\n",
        "\n",
        "## **Simple Baseline**\n",
        "* Run sample code\n",
        "\n",
        "## **Medium Baseline**\n",
        "* Feature selection: 40 states + 2 `tested_positive` (`TODO` in dataset)\n",
        "\n",
        "## **Strong Baseline**\n",
        "* Feature selection (what other features are useful?)\n",
        "* DNN architecture (layers? dimension? activation function?)\n",
        "* Training (mini-batch? optimizer? learning rate?)\n",
        "* L2 regularization\n",
        "* There are some mistakes in the sample code, can you find them?"
      ]
    },
    {
      "cell_type": "markdown",
      "metadata": {
        "id": "9tmCwXgpot3t"
      },
      "source": [
        "# **Reference**\n",
        "This code is completely written by Heng-Jui Chang @ NTUEE.  \n",
        "Copying or reusing this code is required to specify the original author.\n",
        "\n",
        "E.g.  \n",
        "Source: Heng-Jui Chang @ NTUEE (https://github.com/ga642381/ML2021-Spring/blob/main/HW01/HW01.ipynb)\n"
      ]
    }
  ]
}